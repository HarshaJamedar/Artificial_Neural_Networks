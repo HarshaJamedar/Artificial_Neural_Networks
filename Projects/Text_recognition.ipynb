{
  "nbformat": 4,
  "nbformat_minor": 0,
  "metadata": {
    "colab": {
      "provenance": [],
      "toc_visible": true
    },
    "kernelspec": {
      "name": "python3",
      "display_name": "Python 3"
    },
    "language_info": {
      "name": "python"
    }
  },
  "cells": [
    {
      "cell_type": "markdown",
      "source": [
        "# Importing Libraries and loading dataset from sklearn"
      ],
      "metadata": {
        "id": "Tweh0cuMVI-u"
      }
    },
    {
      "cell_type": "code",
      "execution_count": null,
      "metadata": {
        "id": "V0wZ_Up0LzHh"
      },
      "outputs": [],
      "source": [
        "import numpy as np\n",
        "import sklearn\n",
        "from sklearn import datasets\n",
        "import matplotlib.pyplot as plt\n",
        "import math"
      ]
    },
    {
      "cell_type": "code",
      "source": [
        "dataset = datasets.load_digits()\n",
        "Y=dataset.target\n",
        "print(Y)\n",
        "dataset.images"
      ],
      "metadata": {
        "colab": {
          "base_uri": "https://localhost:8080/"
        },
        "id": "_Zc61veBCJN9",
        "outputId": "33730b4f-f5d0-408f-9129-c05438210dfd"
      },
      "execution_count": null,
      "outputs": [
        {
          "output_type": "stream",
          "name": "stdout",
          "text": [
            "[0 1 2 ... 8 9 8]\n"
          ]
        },
        {
          "output_type": "execute_result",
          "data": {
            "text/plain": [
              "array([[[ 0.,  0.,  5., ...,  1.,  0.,  0.],\n",
              "        [ 0.,  0., 13., ..., 15.,  5.,  0.],\n",
              "        [ 0.,  3., 15., ..., 11.,  8.,  0.],\n",
              "        ...,\n",
              "        [ 0.,  4., 11., ..., 12.,  7.,  0.],\n",
              "        [ 0.,  2., 14., ..., 12.,  0.,  0.],\n",
              "        [ 0.,  0.,  6., ...,  0.,  0.,  0.]],\n",
              "\n",
              "       [[ 0.,  0.,  0., ...,  5.,  0.,  0.],\n",
              "        [ 0.,  0.,  0., ...,  9.,  0.,  0.],\n",
              "        [ 0.,  0.,  3., ...,  6.,  0.,  0.],\n",
              "        ...,\n",
              "        [ 0.,  0.,  1., ...,  6.,  0.,  0.],\n",
              "        [ 0.,  0.,  1., ...,  6.,  0.,  0.],\n",
              "        [ 0.,  0.,  0., ..., 10.,  0.,  0.]],\n",
              "\n",
              "       [[ 0.,  0.,  0., ..., 12.,  0.,  0.],\n",
              "        [ 0.,  0.,  3., ..., 14.,  0.,  0.],\n",
              "        [ 0.,  0.,  8., ..., 16.,  0.,  0.],\n",
              "        ...,\n",
              "        [ 0.,  9., 16., ...,  0.,  0.,  0.],\n",
              "        [ 0.,  3., 13., ..., 11.,  5.,  0.],\n",
              "        [ 0.,  0.,  0., ..., 16.,  9.,  0.]],\n",
              "\n",
              "       ...,\n",
              "\n",
              "       [[ 0.,  0.,  1., ...,  1.,  0.,  0.],\n",
              "        [ 0.,  0., 13., ...,  2.,  1.,  0.],\n",
              "        [ 0.,  0., 16., ..., 16.,  5.,  0.],\n",
              "        ...,\n",
              "        [ 0.,  0., 16., ..., 15.,  0.,  0.],\n",
              "        [ 0.,  0., 15., ..., 16.,  0.,  0.],\n",
              "        [ 0.,  0.,  2., ...,  6.,  0.,  0.]],\n",
              "\n",
              "       [[ 0.,  0.,  2., ...,  0.,  0.,  0.],\n",
              "        [ 0.,  0., 14., ..., 15.,  1.,  0.],\n",
              "        [ 0.,  4., 16., ..., 16.,  7.,  0.],\n",
              "        ...,\n",
              "        [ 0.,  0.,  0., ..., 16.,  2.,  0.],\n",
              "        [ 0.,  0.,  4., ..., 16.,  2.,  0.],\n",
              "        [ 0.,  0.,  5., ..., 12.,  0.,  0.]],\n",
              "\n",
              "       [[ 0.,  0., 10., ...,  1.,  0.,  0.],\n",
              "        [ 0.,  2., 16., ...,  1.,  0.,  0.],\n",
              "        [ 0.,  0., 15., ..., 15.,  0.,  0.],\n",
              "        ...,\n",
              "        [ 0.,  4., 16., ..., 16.,  6.,  0.],\n",
              "        [ 0.,  8., 16., ..., 16.,  8.,  0.],\n",
              "        [ 0.,  1.,  8., ..., 12.,  1.,  0.]]])"
            ]
          },
          "metadata": {},
          "execution_count": 58
        }
      ]
    },
    {
      "cell_type": "markdown",
      "source": [
        "# Modifying the Data ( reshape, splitting Train and Test Data)"
      ],
      "metadata": {
        "id": "feoS5VnTYIXr"
      }
    },
    {
      "cell_type": "code",
      "source": [
        "#making 8x8 to 64x1 matrix for vector multiplication\n",
        "X=dataset.images.reshape(len(dataset.images),-1)"
      ],
      "metadata": {
        "id": "NBY6NNW-CiIN"
      },
      "execution_count": null,
      "outputs": []
    },
    {
      "cell_type": "code",
      "source": [
        "_#encoding (one hot encode format) into binary form of the data using loss function\n",
        "from keras.utils import np_utils\n",
        "print(Y.shape)\n",
        "Y=np_utils.to_categorical(Y,10)\n",
        "print(Y.shape)"
      ],
      "metadata": {
        "colab": {
          "base_uri": "https://localhost:8080/"
        },
        "id": "JOE6EoKiDo2G",
        "outputId": "dbf37090-5ec4-4603-d554-23ef019a6720"
      },
      "execution_count": null,
      "outputs": [
        {
          "output_type": "stream",
          "name": "stdout",
          "text": [
            "(1797,)\n",
            "(1797, 10)\n"
          ]
        }
      ]
    },
    {
      "cell_type": "code",
      "source": [],
      "metadata": {
        "id": "jWf8lpTZ8FeF"
      },
      "execution_count": null,
      "outputs": []
    },
    {
      "cell_type": "code",
      "source": [
        "#Train and testing the data\n",
        "from sklearn.model_selection import train_test_split\n",
        "x_train,x_left,y_train,y_left = train_test_split(X,Y,test_size=0.4,random_state=35)\n",
        "x_test,x_val,y_test,y_val = train_test_split(x_left,y_left,test_size=0.5,random_state=35)\n",
        "x_train.shape"
      ],
      "metadata": {
        "colab": {
          "base_uri": "https://localhost:8080/"
        },
        "id": "r4Fv80HkEghq",
        "outputId": "250c5578-d016-4a7a-ecd3-bccb29bd5764"
      },
      "execution_count": null,
      "outputs": [
        {
          "output_type": "execute_result",
          "data": {
            "text/plain": [
              "(1078, 64)"
            ]
          },
          "metadata": {},
          "execution_count": 61
        }
      ]
    },
    {
      "cell_type": "code",
      "source": [
        "y_train.shape"
      ],
      "metadata": {
        "colab": {
          "base_uri": "https://localhost:8080/"
        },
        "id": "jS7MkRpBXs1L",
        "outputId": "80a9a247-0dec-4542-beeb-50677f8009bf"
      },
      "execution_count": null,
      "outputs": [
        {
          "output_type": "execute_result",
          "data": {
            "text/plain": [
              "(1078, 10)"
            ]
          },
          "metadata": {},
          "execution_count": 62
        }
      ]
    },
    {
      "cell_type": "code",
      "source": [
        "x_test.shape"
      ],
      "metadata": {
        "colab": {
          "base_uri": "https://localhost:8080/"
        },
        "id": "wxC7mgNeXxZR",
        "outputId": "0fa0f02d-58fe-4432-dcf5-f63547e3be12"
      },
      "execution_count": null,
      "outputs": [
        {
          "output_type": "execute_result",
          "data": {
            "text/plain": [
              "(359, 64)"
            ]
          },
          "metadata": {},
          "execution_count": 63
        }
      ]
    },
    {
      "cell_type": "code",
      "source": [
        "y_test.shape"
      ],
      "metadata": {
        "colab": {
          "base_uri": "https://localhost:8080/"
        },
        "id": "HeSoRsU8Xzpi",
        "outputId": "757997f3-21c4-4861-cedb-219d05e9160a"
      },
      "execution_count": null,
      "outputs": [
        {
          "output_type": "execute_result",
          "data": {
            "text/plain": [
              "(359, 10)"
            ]
          },
          "metadata": {},
          "execution_count": 64
        }
      ]
    },
    {
      "cell_type": "markdown",
      "source": [
        "# Creating a Keras Neural network model"
      ],
      "metadata": {
        "id": "m5U8Dqe4Z31X"
      }
    },
    {
      "cell_type": "code",
      "source": [
        "import tensorflow as tf\n",
        "from tensorflow.keras import Sequential, layers"
      ],
      "metadata": {
        "id": "Xu7KeCEoG6vm"
      },
      "execution_count": null,
      "outputs": []
    },
    {
      "cell_type": "code",
      "source": [
        "model = Sequential()\n",
        "model.add(layers.Dense(64,input_shape=(64,),activation=\"relu\"))\n",
        "model.add(layers.Dense(64,activation=\"gelu\"))\n",
        "model.add(layers.Dense(32,activation=\"relu\"))\n",
        "model.add(layers.Dense(10,activation=\"softmax\"))"
      ],
      "metadata": {
        "id": "EYxItePGHEv-"
      },
      "execution_count": null,
      "outputs": []
    },
    {
      "cell_type": "code",
      "source": [
        "#model is being compiled using the Adam optimizer, using categorical crossentropy as the loss function and accuracy as the metric\n",
        "model.compile(optimizer=\"Adam\",loss=\"categorical_crossentropy\",metrics=['accuracy'])"
      ],
      "metadata": {
        "id": "pkDN10nQY0DF"
      },
      "execution_count": null,
      "outputs": []
    },
    {
      "cell_type": "code",
      "source": [
        "history=model.fit(x_train,y_train,epochs=20,batch_size=32,verbose=1,validation_data=(x_test,y_test))"
      ],
      "metadata": {
        "colab": {
          "base_uri": "https://localhost:8080/"
        },
        "id": "XgHyRB0yY-vi",
        "outputId": "54255c53-6de8-4c64-9cf0-2439b05683ce"
      },
      "execution_count": null,
      "outputs": [
        {
          "output_type": "stream",
          "name": "stdout",
          "text": [
            "Epoch 1/20\n",
            "34/34 [==============================] - 2s 12ms/step - loss: 2.5040 - accuracy: 0.3006 - val_loss: 1.2723 - val_accuracy: 0.6017\n",
            "Epoch 2/20\n",
            "34/34 [==============================] - 0s 5ms/step - loss: 0.8895 - accuracy: 0.7505 - val_loss: 0.6188 - val_accuracy: 0.8301\n",
            "Epoch 3/20\n",
            "34/34 [==============================] - 0s 4ms/step - loss: 0.4333 - accuracy: 0.8878 - val_loss: 0.3260 - val_accuracy: 0.9109\n",
            "Epoch 4/20\n",
            "34/34 [==============================] - 0s 4ms/step - loss: 0.2455 - accuracy: 0.9314 - val_loss: 0.2267 - val_accuracy: 0.9415\n",
            "Epoch 5/20\n",
            "34/34 [==============================] - 0s 4ms/step - loss: 0.1648 - accuracy: 0.9583 - val_loss: 0.1943 - val_accuracy: 0.9415\n",
            "Epoch 6/20\n",
            "34/34 [==============================] - 0s 5ms/step - loss: 0.1175 - accuracy: 0.9712 - val_loss: 0.1759 - val_accuracy: 0.9415\n",
            "Epoch 7/20\n",
            "34/34 [==============================] - 0s 5ms/step - loss: 0.0877 - accuracy: 0.9824 - val_loss: 0.1354 - val_accuracy: 0.9666\n",
            "Epoch 8/20\n",
            "34/34 [==============================] - 0s 5ms/step - loss: 0.0681 - accuracy: 0.9852 - val_loss: 0.1136 - val_accuracy: 0.9694\n",
            "Epoch 9/20\n",
            "34/34 [==============================] - 0s 5ms/step - loss: 0.0554 - accuracy: 0.9889 - val_loss: 0.1106 - val_accuracy: 0.9721\n",
            "Epoch 10/20\n",
            "34/34 [==============================] - 0s 4ms/step - loss: 0.0478 - accuracy: 0.9898 - val_loss: 0.0935 - val_accuracy: 0.9749\n",
            "Epoch 11/20\n",
            "34/34 [==============================] - 0s 5ms/step - loss: 0.0311 - accuracy: 0.9963 - val_loss: 0.0917 - val_accuracy: 0.9721\n",
            "Epoch 12/20\n",
            "34/34 [==============================] - 0s 4ms/step - loss: 0.0249 - accuracy: 0.9981 - val_loss: 0.0816 - val_accuracy: 0.9749\n",
            "Epoch 13/20\n",
            "34/34 [==============================] - 0s 4ms/step - loss: 0.0193 - accuracy: 0.9991 - val_loss: 0.0911 - val_accuracy: 0.9777\n",
            "Epoch 14/20\n",
            "34/34 [==============================] - 0s 4ms/step - loss: 0.0165 - accuracy: 0.9991 - val_loss: 0.0917 - val_accuracy: 0.9721\n",
            "Epoch 15/20\n",
            "34/34 [==============================] - 0s 4ms/step - loss: 0.0150 - accuracy: 0.9991 - val_loss: 0.0778 - val_accuracy: 0.9805\n",
            "Epoch 16/20\n",
            "34/34 [==============================] - 0s 4ms/step - loss: 0.0110 - accuracy: 1.0000 - val_loss: 0.0753 - val_accuracy: 0.9805\n",
            "Epoch 17/20\n",
            "34/34 [==============================] - 0s 4ms/step - loss: 0.0101 - accuracy: 1.0000 - val_loss: 0.0810 - val_accuracy: 0.9749\n",
            "Epoch 18/20\n",
            "34/34 [==============================] - 0s 6ms/step - loss: 0.0096 - accuracy: 1.0000 - val_loss: 0.0801 - val_accuracy: 0.9777\n",
            "Epoch 19/20\n",
            "34/34 [==============================] - 0s 4ms/step - loss: 0.0077 - accuracy: 1.0000 - val_loss: 0.0702 - val_accuracy: 0.9861\n",
            "Epoch 20/20\n",
            "34/34 [==============================] - 0s 4ms/step - loss: 0.0065 - accuracy: 1.0000 - val_loss: 0.0752 - val_accuracy: 0.9805\n"
          ]
        }
      ]
    },
    {
      "cell_type": "code",
      "source": [
        "#plotting the model accuracy\n",
        "plt.plot(history.history['accuracy'])\n",
        "plt.plot(history.history['val_accuracy'])\n",
        "plt.title('model accuracy')\n",
        "plt.ylabel('accuracy')\n",
        "plt.xlabel('epoch')\n",
        "plt.legend(['train', 'val'], loc='upper left')\n",
        "plt.show()"
      ],
      "metadata": {
        "colab": {
          "base_uri": "https://localhost:8080/",
          "height": 295
        },
        "id": "6U0Md8olGRd3",
        "outputId": "b935f846-b61a-4ddc-ce45-d3f7b6328063"
      },
      "execution_count": null,
      "outputs": [
        {
          "output_type": "display_data",
          "data": {
            "text/plain": [
              "<Figure size 432x288 with 1 Axes>"
            ],
            "image/png": "[encoded data removed]"
          },
          "metadata": {
            "needs_background": "light"
          }
        }
      ]
    },
    {
      "cell_type": "code",
      "source": [
        "model.evaluate(x_train,y_train)"
      ],
      "metadata": {
        "colab": {
          "base_uri": "https://localhost:8080/"
        },
        "id": "UtF4N5jMZRRA",
        "outputId": "e91d2a19-6ac4-4c2a-ba67-fd29d85ea347"
      },
      "execution_count": null,
      "outputs": [
        {
          "output_type": "stream",
          "name": "stdout",
          "text": [
            "34/34 [==============================] - 0s 2ms/step - loss: 0.0055 - accuracy: 1.0000\n"
          ]
        },
        {
          "output_type": "execute_result",
          "data": {
            "text/plain": [
              "[0.005473169963806868, 1.0]"
            ]
          },
          "metadata": {},
          "execution_count": 70
        }
      ]
    },
    {
      "cell_type": "code",
      "source": [
        "test_loss,test_acc=model.evaluate(x_test,y_test)"
      ],
      "metadata": {
        "colab": {
          "base_uri": "https://localhost:8080/"
        },
        "id": "FnWmLM02ZWXK",
        "outputId": "e4e2d2b2-9e99-42cc-c155-dc055a4ca245"
      },
      "execution_count": null,
      "outputs": [
        {
          "output_type": "stream",
          "name": "stdout",
          "text": [
            "12/12 [==============================] - 0s 2ms/step - loss: 0.0752 - accuracy: 0.9805\n"
          ]
        }
      ]
    },
    {
      "cell_type": "code",
      "source": [
        "test_loss"
      ],
      "metadata": {
        "id": "h3cejTCmm9X9",
        "colab": {
          "base_uri": "https://localhost:8080/"
        },
        "outputId": "89192ba5-1c07-4868-ab3c-88aa4e64bfd3"
      },
      "execution_count": null,
      "outputs": [
        {
          "output_type": "execute_result",
          "data": {
            "text/plain": [
              "0.0751858800649643"
            ]
          },
          "metadata": {},
          "execution_count": 72
        }
      ]
    },
    {
      "cell_type": "code",
      "source": [
        "test_acc"
      ],
      "metadata": {
        "colab": {
          "base_uri": "https://localhost:8080/"
        },
        "id": "uGzOJrI30nle",
        "outputId": "c88f674c-a2be-40ad-f9da-988c90fce87c"
      },
      "execution_count": null,
      "outputs": [
        {
          "output_type": "execute_result",
          "data": {
            "text/plain": [
              "0.9805014133453369"
            ]
          },
          "metadata": {},
          "execution_count": 73
        }
      ]
    },
    {
      "cell_type": "markdown",
      "source": [
        "# Implementing Feed forwarding using Activation functions"
      ],
      "metadata": {
        "id": "HkbfefFt86Xh"
      }
    },
    {
      "cell_type": "code",
      "source": [
        "#storing the weights with bias\n",
        "W=model.get_weights()\n",
        "print(W)"
      ],
      "metadata": {
        "id": "xxkDv4wpZZN5",
        "colab": {
          "base_uri": "https://localhost:8080/"
        },
        "outputId": "7577f6af-0cf0-4ca6-fe29-f5dca701d519"
      },
      "execution_count": null,
      "outputs": [
        {
          "output_type": "stream",
          "name": "stdout",
          "text": [
            "[array([[ 0.05757479, -0.02421552,  0.02925111, ...,  0.10084496,\n",
            "         0.05279751,  0.21295314],\n",
            "       [ 0.07426314, -0.15721966,  0.12245663, ...,  0.15376939,\n",
            "         0.1230792 ,  0.17166902],\n",
            "       [ 0.1391233 , -0.13818468,  0.0976582 , ...,  0.13025555,\n",
            "        -0.04394886,  0.15381706],\n",
            "       ...,\n",
            "       [ 0.21093288, -0.07409799,  0.10029223, ...,  0.07593687,\n",
            "         0.13221428, -0.29076684],\n",
            "       [ 0.19949098,  0.0440314 , -0.18528429, ...,  0.05119657,\n",
            "        -0.16240795,  0.15289266],\n",
            "       [ 0.10667703, -0.1342784 , -0.19828644, ..., -0.23599559,\n",
            "         0.08614717, -0.21930316]], dtype=float32), array([ 0.00181737,  0.01703721,  0.00545244, -0.01226966, -0.01278371,\n",
            "        0.00801545,  0.01473952,  0.        ,  0.        ,  0.04188875,\n",
            "       -0.0104332 , -0.01395205, -0.0032102 , -0.01765881,  0.00667793,\n",
            "        0.00700997,  0.00656286,  0.03574514, -0.00911512, -0.00152906,\n",
            "       -0.00119757,  0.00088948,  0.03128687,  0.02348202,  0.0221612 ,\n",
            "        0.01612866, -0.00985317,  0.00545602,  0.01571776,  0.02376105,\n",
            "        0.03097141,  0.01516085,  0.02089096,  0.00327185,  0.02557101,\n",
            "        0.01228049,  0.00165821,  0.00575847,  0.01395962, -0.00957489,\n",
            "       -0.008401  ,  0.00492304, -0.00493006,  0.00198201, -0.0037546 ,\n",
            "       -0.0109735 ,  0.02240135, -0.01470786,  0.01128377,  0.03026134,\n",
            "        0.04838317,  0.00544455,  0.02036146,  0.02813245,  0.03275122,\n",
            "       -0.00729678, -0.01081064,  0.02774397,  0.02030969,  0.00489226,\n",
            "        0.        ,  0.00887649,  0.02320986,  0.03029702], dtype=float32), array([[-0.16028926,  0.06307101,  0.11944661, ...,  0.02655012,\n",
            "        -0.1299079 ,  0.01114514],\n",
            "       [ 0.06888459,  0.03568476,  0.20413466, ..., -0.04500945,\n",
            "        -0.06409203,  0.00517071],\n",
            "       [ 0.04179968,  0.17233717,  0.16880225, ...,  0.04887463,\n",
            "         0.05576506,  0.12871645],\n",
            "       ...,\n",
            "       [-0.09341719, -0.1822472 ,  0.06987658, ...,  0.07703687,\n",
            "        -0.00384323, -0.20797628],\n",
            "       [-0.1095233 ,  0.06268973,  0.12106901, ..., -0.15943955,\n",
            "        -0.17012654, -0.20300639],\n",
            "       [ 0.18823794, -0.08183722,  0.08910974, ..., -0.14103389,\n",
            "         0.09655078,  0.10534835]], dtype=float32), array([-0.0094942 , -0.00667744,  0.02245915, -0.01620649, -0.01766895,\n",
            "        0.03521983, -0.00645982, -0.01066659,  0.0151454 ,  0.01700681,\n",
            "       -0.02295264,  0.01966645,  0.02988452, -0.00663643, -0.01927573,\n",
            "        0.00826034,  0.02473775,  0.01061746,  0.01285564,  0.01168921,\n",
            "       -0.00421087, -0.00850828,  0.03110237,  0.01802775, -0.01372295,\n",
            "        0.00636926,  0.03794026, -0.00588394,  0.00850369, -0.01721391,\n",
            "       -0.00586566,  0.02770464,  0.0153365 ,  0.02784328, -0.00723563,\n",
            "       -0.01815682, -0.00504655,  0.01441618,  0.01087446,  0.01733772,\n",
            "       -0.01086612,  0.01584267,  0.01844307, -0.01002648, -0.00525912,\n",
            "        0.01891798, -0.0147059 , -0.01288067, -0.00942146, -0.01429874,\n",
            "        0.0023441 ,  0.00910117, -0.00813103, -0.00197635,  0.00331861,\n",
            "       -0.00653384, -0.00085922,  0.01666405,  0.0110782 , -0.00746346,\n",
            "        0.00875093,  0.04979343,  0.01308724, -0.0077111 ], dtype=float32), array([[ 0.09673794,  0.0817745 ,  0.18451332, ...,  0.13655952,\n",
            "        -0.02066522, -0.12071139],\n",
            "       [ 0.17568167,  0.09385382,  0.17170218, ..., -0.04906207,\n",
            "        -0.19467042,  0.14341746],\n",
            "       [ 0.03335938, -0.13617286,  0.18168992, ...,  0.21491346,\n",
            "        -0.02026067,  0.11082552],\n",
            "       ...,\n",
            "       [-0.14707984,  0.23034184,  0.20014112, ...,  0.16622952,\n",
            "         0.17259143, -0.19346754],\n",
            "       [-0.03690618, -0.15639919,  0.19877498, ..., -0.33660582,\n",
            "         0.02502515, -0.24484168],\n",
            "       [ 0.14299388, -0.02009985, -0.01953777, ...,  0.07555281,\n",
            "        -0.2630232 ,  0.02352063]], dtype=float32), array([-0.00683077,  0.00753274, -0.01835228,  0.00397447,  0.00976904,\n",
            "        0.01635855, -0.01579901,  0.01102288,  0.00845239,  0.00995768,\n",
            "       -0.00386694,  0.01206754, -0.01019796, -0.01657544,  0.00236765,\n",
            "       -0.02573469, -0.00733196,  0.00259626, -0.01142262, -0.02356098,\n",
            "        0.0128072 ,  0.00632542, -0.00452494,  0.008709  ,  0.0238188 ,\n",
            "        0.01159714, -0.00510933, -0.0156324 ,  0.0147615 ,  0.01555997,\n",
            "       -0.00985181,  0.00899983], dtype=float32), array([[-0.23973593, -0.17388654,  0.34055206,  0.03109129, -0.3668457 ,\n",
            "        -0.33844024,  0.05728325,  0.27553043,  0.2244314 , -0.33043766],\n",
            "       [-0.12068042,  0.07019741,  0.15711829,  0.01558545, -0.11866636,\n",
            "        -0.37973073, -0.14984557, -0.03339596,  0.21935163, -0.13097307],\n",
            "       [-0.2629374 ,  0.03077923,  0.16721189,  0.32917228,  0.29228437,\n",
            "         0.21459538,  0.03780475, -0.11638959,  0.20183246, -0.17741022],\n",
            "       [ 0.01786851, -0.16228528, -0.04269988,  0.2836092 , -0.1695348 ,\n",
            "        -0.06817134,  0.00667782, -0.27146846, -0.12162033, -0.05764255],\n",
            "       [-0.49367929, -0.21104409,  0.11220596,  0.06111837, -0.2913443 ,\n",
            "        -0.40696016, -0.08146354, -0.11438333, -0.22517811,  0.20611148],\n",
            "       [-0.32306355,  0.09482363,  0.40204504,  0.13255127, -0.13243644,\n",
            "        -0.31827876,  0.2967612 , -0.4420641 ,  0.16403303, -0.27266797],\n",
            "       [-0.2642575 ,  0.22642978,  0.3413407 ,  0.22692154, -0.23606771,\n",
            "         0.01615089, -0.2149222 ,  0.21593359,  0.34284723, -0.27451342],\n",
            "       [ 0.2505788 , -0.43372506, -0.19811314, -0.01487262,  0.43075365,\n",
            "         0.09956963, -0.13169345, -0.27881727, -0.30547842, -0.28929308],\n",
            "       [ 0.27245754,  0.34597257, -0.08210403,  0.19416533,  0.44990173,\n",
            "         0.23428991, -0.04037337,  0.3199749 , -0.13130872,  0.23662104],\n",
            "       [ 0.10115123, -0.03223597, -0.05072444, -0.13215365, -0.12228501,\n",
            "         0.30397156,  0.19281523, -0.2422601 ,  0.29781324, -0.2531867 ],\n",
            "       [ 0.27637506,  0.26756227,  0.08969669,  0.05207515, -0.16876845,\n",
            "        -0.07676466,  0.33359873, -0.02916218,  0.33632287,  0.34326842],\n",
            "       [ 0.32149845,  0.03688851, -0.3427309 ,  0.04370321, -0.32181448,\n",
            "        -0.17261261, -0.12348187,  0.3579042 ,  0.23996775,  0.18735781],\n",
            "       [-0.21577862, -0.03166438, -0.27305838,  0.13069232, -0.33830273,\n",
            "         0.01292629,  0.11650657, -0.17703673, -0.253391  , -0.40738958],\n",
            "       [-0.34894258, -0.07015036,  0.19228207,  0.31938037,  0.0813536 ,\n",
            "        -0.03803457,  0.28050098,  0.11274954, -0.2510227 ,  0.153098  ],\n",
            "       [ 0.13703609, -0.42968422,  0.15248768, -0.01873864,  0.05512805,\n",
            "         0.22900398, -0.25363314, -0.25703776, -0.20642242,  0.3050586 ],\n",
            "       [ 0.27095622, -0.23492946,  0.32173365,  0.16498114, -0.18503717,\n",
            "        -0.39412534, -0.07845622, -0.14741002,  0.10603561,  0.3032736 ],\n",
            "       [-0.17420144, -0.26576257,  0.12580518,  0.06305704, -0.14239012,\n",
            "         0.41044378,  0.26531386,  0.25606477,  0.09227864,  0.09780108],\n",
            "       [-0.16482101, -0.43337074,  0.05462145,  0.2751343 , -0.02542558,\n",
            "        -0.30891857,  0.20197545,  0.20040886, -0.15093386,  0.12028406],\n",
            "       [-0.33047235, -0.4356784 ,  0.3174071 ,  0.32082874, -0.04778056,\n",
            "         0.0638947 ,  0.24467216, -0.01071758, -0.27843717, -0.38679254],\n",
            "       [-0.24804226, -0.26023299, -0.34353325, -0.1282219 ,  0.06000588,\n",
            "        -0.05410735,  0.07840738, -0.30640432, -0.09259111, -0.21558584],\n",
            "       [ 0.08716366,  0.03247188,  0.376639  , -0.07913157, -0.10457096,\n",
            "        -0.32805675,  0.11459886,  0.20482275,  0.37809038, -0.10466424],\n",
            "       [ 0.25810266,  0.02488058, -0.02490587,  0.08144562,  0.38175675,\n",
            "        -0.16613117,  0.3212869 , -0.35183614, -0.17588092, -0.3013743 ],\n",
            "       [ 0.1135507 ,  0.33057114,  0.26317355,  0.08030064, -0.10527743,\n",
            "         0.25452566, -0.37143084, -0.3834484 , -0.07743465,  0.11459865],\n",
            "       [-0.35555732,  0.3903355 , -0.23745503,  0.15576862,  0.15861234,\n",
            "         0.31840068,  0.04527005,  0.13289346,  0.03104788,  0.2962788 ],\n",
            "       [ 0.108941  , -0.11894342,  0.00725057, -0.2903329 ,  0.04933817,\n",
            "        -0.06856611, -0.19270656,  0.1895377 ,  0.2948044 ,  0.14576468],\n",
            "       [ 0.22030707, -0.02752033,  0.35419318,  0.06543063,  0.19241224,\n",
            "         0.07111351,  0.07053473,  0.46616176, -0.30498907, -0.31322297],\n",
            "       [ 0.00633952,  0.13329312, -0.117429  , -0.26638785, -0.13195972,\n",
            "         0.23213756, -0.28232384,  0.3317735 ,  0.08218984, -0.2774902 ],\n",
            "       [-0.30657855, -0.30307975,  0.10190723,  0.32747385, -0.28020513,\n",
            "         0.3537898 , -0.08494188,  0.07170528, -0.14948308, -0.18395644],\n",
            "       [ 0.20559008,  0.23890193,  0.04173241, -0.04280501, -0.1001196 ,\n",
            "        -0.00968393,  0.32399616,  0.29587442, -0.10893323, -0.11547286],\n",
            "       [-0.1864706 ,  0.38879701,  0.05581373, -0.18924618,  0.23741573,\n",
            "         0.28169665, -0.08145217,  0.25362486,  0.01035849, -0.19847703],\n",
            "       [-0.34088013,  0.1400887 ,  0.25713015,  0.33915523, -0.04203042,\n",
            "         0.06970378, -0.07100908, -0.291897  , -0.1089282 ,  0.40828905],\n",
            "       [ 0.11108188,  0.05224878, -0.23502815,  0.23465042,  0.38798296,\n",
            "        -0.2106431 , -0.30305222, -0.12156887, -0.16057597,  0.31216043]],\n",
            "      dtype=float32), array([ 0.02180831,  0.00928967, -0.03929005, -0.01312988,  0.03366605,\n",
            "       -0.01756305, -0.02198813,  0.0428553 , -0.00248087,  0.00909201],\n",
            "      dtype=float32)]\n"
          ]
        }
      ]
    },
    {
      "cell_type": "code",
      "source": [
        "for weights in W:\n",
        "  print(len(weights))"
      ],
      "metadata": {
        "id": "yxwIcxePbrmR",
        "colab": {
          "base_uri": "https://localhost:8080/"
        },
        "outputId": "d50d0d87-5b67-49b8-d543-f937f5864c86"
      },
      "execution_count": null,
      "outputs": [
        {
          "output_type": "stream",
          "name": "stdout",
          "text": [
            "64\n",
            "64\n",
            "64\n",
            "64\n",
            "64\n",
            "32\n",
            "32\n",
            "10\n"
          ]
        }
      ]
    },
    {
      "cell_type": "code",
      "source": [
        "#defining RELU function:\n",
        "def relu(x):\n",
        "    return np.maximum(x, 0)"
      ],
      "metadata": {
        "id": "m9eteqySckbn"
      },
      "execution_count": null,
      "outputs": []
    },
    {
      "cell_type": "code",
      "source": [
        "#defining Gelu function:\n",
        "def gelu(x):\n",
        "    cdf = 0.5 * (1.0 + np.tanh((np.sqrt(2 / np.pi) * (x + 0.044715 * np.power(x, 3)))))\n",
        "    return x * cdf"
      ],
      "metadata": {
        "id": "rRzLMt7Ic5FV"
      },
      "execution_count": null,
      "outputs": []
    },
    {
      "cell_type": "code",
      "source": [
        "#defining Softmax function:\n",
        "def softmax(x):\n",
        "    exp_x = np.exp(x - np.max(x))\n",
        "    return exp_x / np.sum(exp_x, axis=1, keepdims=True)"
      ],
      "metadata": {
        "id": "kRYCUBXydl7c"
      },
      "execution_count": null,
      "outputs": []
    },
    {
      "cell_type": "code",
      "source": [],
      "metadata": {
        "id": "nv70KVEjeRLM"
      },
      "execution_count": null,
      "outputs": []
    },
    {
      "cell_type": "code",
      "source": [
        "\n",
        "def feed_forward(x, weights):\n",
        "    x = np.dot(x, weights[0]) + weights[1]\n",
        "    x = relu(x)\n",
        "    x = np.dot(x, weights[2]) + weights[3]\n",
        "    x = gelu(x)\n",
        "    x = np.dot(x, weights[4]) + weights[5]\n",
        "    x = relu(x)\n",
        "    x = np.dot(x, weights[6]) + weights[7]\n",
        "    x = softmax(x)\n",
        "    return x"
      ],
      "metadata": {
        "id": "c-BwxdjOfEDm"
      },
      "execution_count": null,
      "outputs": []
    },
    {
      "cell_type": "code",
      "source": [
        "plt.imshow(x_train[0].reshape(8, -1))\n",
        "print(np.argmax(y_train[0]))"
      ],
      "metadata": {
        "colab": {
          "base_uri": "https://localhost:8080/",
          "height": 282
        },
        "id": "KjUP_MmvCveC",
        "outputId": "24606357-1141-4594-ee4e-98f1b46673e0"
      },
      "execution_count": null,
      "outputs": [
        {
          "output_type": "stream",
          "name": "stdout",
          "text": [
            "9\n"
          ]
        },
        {
          "output_type": "display_data",
          "data": {
            "text/plain": [
              "<Figure size 432x288 with 1 Axes>"
            ],
            "image/png": "[encoded data removed]"
          },
          "metadata": {
            "needs_background": "light"
          }
        }
      ]
    },
    {
      "cell_type": "markdown",
      "source": [
        "# Predicting final output using feed forward and Loss function"
      ],
      "metadata": {
        "id": "H6OwdVMT9jOk"
      }
    },
    {
      "cell_type": "code",
      "source": [
        "def categorical_crossentropy(target, output, from_logits=False):\n",
        "    if from_logits:\n",
        "        output = softmax(output)\n",
        "    else:\n",
        "        output /= output.sum(axis=-1, keepdims=True)\n",
        "    output = np.clip(output, 1e-7, 1 - 1e-7)\n",
        "    return np.sum(target * -np.log(output), axis=-1, keepdims=False)"
      ],
      "metadata": {
        "id": "IzpYjBS9BwQt"
      },
      "execution_count": null,
      "outputs": []
    },
    {
      "cell_type": "code",
      "source": [
        "y_probability = feed_forward(x_test,W)\n",
        "y_probability\n"
      ],
      "metadata": {
        "colab": {
          "base_uri": "https://localhost:8080/"
        },
        "id": "l14IWpaPSvf_",
        "outputId": "9071a512-ec2d-429a-83d6-cb964266f632"
      },
      "execution_count": null,
      "outputs": [
        {
          "output_type": "execute_result",
          "data": {
            "text/plain": [
              "array([[1.15278993e-07, 6.76354421e-04, 8.83899727e-06, ...,\n",
              "        3.77991352e-08, 1.69627636e-05, 5.18147769e-10],\n",
              "       [3.14155427e-08, 5.20890292e-05, 9.90797111e-07, ...,\n",
              "        9.99710557e-01, 6.07262964e-08, 1.42926522e-07],\n",
              "       [3.11964002e-06, 3.26090167e-08, 6.61599638e-06, ...,\n",
              "        4.33105145e-10, 6.16104065e-06, 7.10257130e-13],\n",
              "       ...,\n",
              "       [1.79982218e-10, 2.16193958e-07, 7.24405180e-04, ...,\n",
              "        1.62087829e-11, 9.22187158e-05, 1.87357513e-05],\n",
              "       [1.23703199e-05, 4.51750306e-08, 2.26404395e-06, ...,\n",
              "        4.58124249e-09, 7.91690331e-04, 9.99040254e-01],\n",
              "       [9.89400449e-05, 1.42720865e-06, 1.06409783e-06, ...,\n",
              "        2.81209309e-07, 1.38606873e-02, 9.85690541e-01]])"
            ]
          },
          "metadata": {},
          "execution_count": 82
        }
      ]
    },
    {
      "cell_type": "code",
      "source": [
        "loss_function = categorical_crossentropy(y_test,y_probability)\n",
        "loss_function.shape\n"
      ],
      "metadata": {
        "colab": {
          "base_uri": "https://localhost:8080/"
        },
        "id": "sYxUavC0oa0d",
        "outputId": "967605f2-3ac3-4921-f862-78d8a33cf619"
      },
      "execution_count": null,
      "outputs": [
        {
          "output_type": "execute_result",
          "data": {
            "text/plain": [
              "(359,)"
            ]
          },
          "metadata": {},
          "execution_count": 83
        }
      ]
    },
    {
      "cell_type": "code",
      "source": [
        "y_test.shape"
      ],
      "metadata": {
        "colab": {
          "base_uri": "https://localhost:8080/"
        },
        "id": "DK3j_qW9rI7B",
        "outputId": "7276ed17-9ae1-45e3-f1f2-4b4a14b3c929"
      },
      "execution_count": null,
      "outputs": [
        {
          "output_type": "execute_result",
          "data": {
            "text/plain": [
              "(359, 10)"
            ]
          },
          "metadata": {},
          "execution_count": 84
        }
      ]
    },
    {
      "cell_type": "markdown",
      "source": [
        "# Results:\n",
        "comparing accuracy and loss calculated from model and feed forward respectively"
      ],
      "metadata": {
        "id": "Uwx3Nsmg-Wgg"
      }
    },
    {
      "cell_type": "code",
      "source": [
        "#accuracy from test data\n",
        "test_acc"
      ],
      "metadata": {
        "colab": {
          "base_uri": "https://localhost:8080/"
        },
        "id": "8tQsp-VQ_b-d",
        "outputId": "5a5fd84c-daf2-4c95-ea7c-4192eff64fd0"
      },
      "execution_count": null,
      "outputs": [
        {
          "output_type": "execute_result",
          "data": {
            "text/plain": [
              "0.9805014133453369"
            ]
          },
          "metadata": {},
          "execution_count": 85
        }
      ]
    },
    {
      "cell_type": "code",
      "source": [
        "#Loss from test data\n",
        "test_loss"
      ],
      "metadata": {
        "id": "mDggT1yIzkQs",
        "colab": {
          "base_uri": "https://localhost:8080/"
        },
        "outputId": "76d0dd87-0a36-46b1-cafe-316b5b243e8e"
      },
      "execution_count": null,
      "outputs": [
        {
          "output_type": "execute_result",
          "data": {
            "text/plain": [
              "0.0751858800649643"
            ]
          },
          "metadata": {},
          "execution_count": 86
        }
      ]
    },
    {
      "cell_type": "code",
      "source": [
        "#Accuracy from feed forwarding\n",
        "np.mean(np.argmax(y_test,axis=1)==np.argmax(y_probability,axis=1))"
      ],
      "metadata": {
        "colab": {
          "base_uri": "https://localhost:8080/"
        },
        "id": "Sc2JlLrqzPvh",
        "outputId": "fe7824a1-3783-400e-87d8-a43f364b4204"
      },
      "execution_count": null,
      "outputs": [
        {
          "output_type": "execute_result",
          "data": {
            "text/plain": [
              "0.9805013927576601"
            ]
          },
          "metadata": {},
          "execution_count": 87
        }
      ]
    },
    {
      "cell_type": "code",
      "source": [
        "#Loss from feed forwarding\n",
        "np.mean(loss_function)"
      ],
      "metadata": {
        "colab": {
          "base_uri": "https://localhost:8080/"
        },
        "id": "VDc4ozIYrarJ",
        "outputId": "b9d4017a-e5c2-461b-c9ab-29248b50e6e2"
      },
      "execution_count": null,
      "outputs": [
        {
          "output_type": "execute_result",
          "data": {
            "text/plain": [
              "0.07518909712234226"
            ]
          },
          "metadata": {},
          "execution_count": 88
        }
      ]
    },
    {
      "cell_type": "code",
      "source": [
        "x_test.reshape((-1,8,8)).shape"
      ],
      "metadata": {
        "colab": {
          "base_uri": "https://localhost:8080/"
        },
        "id": "o2NITfipEL5N",
        "outputId": "003cd5a8-2f8a-4c71-cef8-04466571e0a5"
      },
      "execution_count": null,
      "outputs": [
        {
          "output_type": "execute_result",
          "data": {
            "text/plain": [
              "(359, 8, 8)"
            ]
          },
          "metadata": {},
          "execution_count": 89
        }
      ]
    },
    {
      "cell_type": "code",
      "source": [
        "plt.figure(figsize=(20,20))\n",
        "\n",
        "for i in range(25):\n",
        "    plt.subplot(5,5,i+1)\n",
        "    plt.imshow(x_test[i].reshape((8,8)))\n",
        "    plt.title(\"Predicted: {}\".format(np.argmax(y_probability[i])))\n",
        "    plt.axis(\"off\")\n",
        "\n",
        "\n",
        "plt.show()"
      ],
      "metadata": {
        "colab": {
          "base_uri": "https://localhost:8080/",
          "height": 1000
        },
        "id": "NrtRhDKhDKk7",
        "outputId": "1e357d48-fdfc-4506-bb04-67cadef444bd"
      },
      "execution_count": null,
      "outputs": [
        {
          "output_type": "display_data",
          "data": {
            "text/plain": [
              "<Figure size 1440x1440 with 25 Axes>"
            ],
            "image/png": "[encoded data removed]"
          },
          "metadata": {
            "needs_background": "light"
          }
        }
      ]
    },
    {
      "cell_type": "code",
      "source": [],
      "metadata": {
        "id": "d6CDB5VSD00s"
      },
      "execution_count": null,
      "outputs": []
    }
  ]
}